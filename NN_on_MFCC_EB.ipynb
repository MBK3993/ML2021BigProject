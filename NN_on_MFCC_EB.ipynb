{
 "cells": [
  {
   "cell_type": "code",
   "execution_count": 1,
   "metadata": {},
   "outputs": [],
   "source": [
    "import json\n",
    "import numpy as np\n",
    "from sklearn.model_selection import train_test_split\n",
    "import tensorflow.keras as keras"
   ]
  },
  {
   "cell_type": "code",
   "execution_count": 2,
   "metadata": {},
   "outputs": [],
   "source": [
    "DATA_PATH = r\"C:\\Users\\eatb6\\Documents\\ML\\Final Project\\ML2021BigProject-main\\ML2021BigProject-main\\Code\\data_10.json\"\n"
   ]
  },
  {
   "cell_type": "code",
   "execution_count": 3,
   "metadata": {},
   "outputs": [],
   "source": [
    "def load_data(data_path):\n",
    "    \"\"\"Loads training dataset from json file.\n",
    "        :param data_path (str): Path to json file containing data\n",
    "        :return X (ndarray): Inputs\n",
    "        :return y (ndarray): Targets\n",
    "    \"\"\"\n",
    "\n",
    "    with open(data_path, \"r\") as fp:\n",
    "        data = json.load(fp)\n",
    "\n",
    "    # convert lists to numpy arrays\n",
    "    X = np.array(data[\"mfcc\"])\n",
    "    y = np.array(data[\"labels\"])\n",
    "\n",
    "    print(\"Data succesfully loaded!\")\n",
    "\n",
    "    return  X, y"
   ]
  },
  {
   "cell_type": "code",
   "execution_count": 4,
   "metadata": {},
   "outputs": [
    {
     "name": "stdout",
     "output_type": "stream",
     "text": [
      "Data succesfully loaded!\n"
     ]
    }
   ],
   "source": [
    "if __name__ == \"__main__\":\n",
    "\n",
    "    # load data\n",
    "    X, y = load_data(DATA_PATH)"
   ]
  },
  {
   "cell_type": "code",
   "execution_count": 5,
   "metadata": {},
   "outputs": [],
   "source": [
    "X_train, X_test, y_train, y_test = train_test_split(X, y, test_size=0.2)"
   ]
  },
  {
   "cell_type": "code",
   "execution_count": 6,
   "metadata": {},
   "outputs": [],
   "source": [
    "    model = keras.Sequential([\n",
    "\n",
    "        # input layer\n",
    "        keras.layers.Flatten(input_shape=(X.shape[1], X.shape[2])),\n",
    "\n",
    "        # 1st dense layer\n",
    "        keras.layers.Dense(512, activation='relu'),\n",
    "\n",
    "        # 2nd dense layer\n",
    "        keras.layers.Dense(256, activation='relu'),\n",
    "\n",
    "        # 3rd dense layer\n",
    "        keras.layers.Dense(64, activation='relu'),\n",
    "\n",
    "        # output layer\n",
    "        keras.layers.Dense(10, activation='softmax')\n",
    "    ])"
   ]
  },
  {
   "cell_type": "code",
   "execution_count": 7,
   "metadata": {},
   "outputs": [
    {
     "name": "stdout",
     "output_type": "stream",
     "text": [
      "Model: \"sequential\"\n",
      "_________________________________________________________________\n",
      "Layer (type)                 Output Shape              Param #   \n",
      "=================================================================\n",
      "flatten (Flatten)            (None, 1690)              0         \n",
      "_________________________________________________________________\n",
      "dense (Dense)                (None, 512)               865792    \n",
      "_________________________________________________________________\n",
      "dense_1 (Dense)              (None, 256)               131328    \n",
      "_________________________________________________________________\n",
      "dense_2 (Dense)              (None, 64)                16448     \n",
      "_________________________________________________________________\n",
      "dense_3 (Dense)              (None, 10)                650       \n",
      "=================================================================\n",
      "Total params: 1,014,218\n",
      "Trainable params: 1,014,218\n",
      "Non-trainable params: 0\n",
      "_________________________________________________________________\n"
     ]
    }
   ],
   "source": [
    "optimiser = keras.optimizers.Adam(learning_rate=0.0001)\n",
    "model.compile(optimizer=optimiser,\n",
    "                  loss='sparse_categorical_crossentropy',\n",
    "                  metrics=['accuracy'])\n",
    "\n",
    "model.summary()"
   ]
  },
  {
   "cell_type": "code",
   "execution_count": 8,
   "metadata": {},
   "outputs": [
    {
     "name": "stdout",
     "output_type": "stream",
     "text": [
      "Epoch 1/50\n",
      "250/250 [==============================] - 2s 5ms/step - loss: 8.2748 - accuracy: 0.3320 - val_loss: 4.4773 - val_accuracy: 0.3505\n",
      "Epoch 2/50\n",
      "250/250 [==============================] - 1s 4ms/step - loss: 3.2066 - accuracy: 0.4322 - val_loss: 3.0358 - val_accuracy: 0.4125\n",
      "Epoch 3/50\n",
      "250/250 [==============================] - 1s 4ms/step - loss: 2.2487 - accuracy: 0.4877 - val_loss: 2.9933 - val_accuracy: 0.4170\n",
      "Epoch 4/50\n",
      "250/250 [==============================] - 1s 4ms/step - loss: 1.7405 - accuracy: 0.5395 - val_loss: 2.5166 - val_accuracy: 0.4330\n",
      "Epoch 5/50\n",
      "250/250 [==============================] - 1s 5ms/step - loss: 1.4571 - accuracy: 0.5885 - val_loss: 2.0591 - val_accuracy: 0.4925\n",
      "Epoch 6/50\n",
      "250/250 [==============================] - 1s 5ms/step - loss: 1.2171 - accuracy: 0.6282 - val_loss: 2.1682 - val_accuracy: 0.4665\n",
      "Epoch 7/50\n",
      "250/250 [==============================] - 2s 6ms/step - loss: 1.0427 - accuracy: 0.6703 - val_loss: 2.0555 - val_accuracy: 0.5070\n",
      "Epoch 8/50\n",
      "250/250 [==============================] - 1s 6ms/step - loss: 0.9234 - accuracy: 0.7061 - val_loss: 1.8443 - val_accuracy: 0.5170\n",
      "Epoch 9/50\n",
      "250/250 [==============================] - 1s 6ms/step - loss: 0.7702 - accuracy: 0.7500 - val_loss: 1.9314 - val_accuracy: 0.5125\n",
      "Epoch 10/50\n",
      "250/250 [==============================] - 1s 6ms/step - loss: 0.7237 - accuracy: 0.7615 - val_loss: 1.8094 - val_accuracy: 0.5295\n",
      "Epoch 11/50\n",
      "250/250 [==============================] - 1s 6ms/step - loss: 0.6073 - accuracy: 0.7959 - val_loss: 1.9161 - val_accuracy: 0.5255\n",
      "Epoch 12/50\n",
      "250/250 [==============================] - 1s 6ms/step - loss: 0.5416 - accuracy: 0.8138 - val_loss: 1.9623 - val_accuracy: 0.5245\n",
      "Epoch 13/50\n",
      "250/250 [==============================] - 1s 6ms/step - loss: 0.4756 - accuracy: 0.8410 - val_loss: 1.8669 - val_accuracy: 0.5335\n",
      "Epoch 14/50\n",
      "250/250 [==============================] - 2s 6ms/step - loss: 0.4807 - accuracy: 0.8374 - val_loss: 2.0576 - val_accuracy: 0.5470\n",
      "Epoch 15/50\n",
      "250/250 [==============================] - 1s 6ms/step - loss: 0.4358 - accuracy: 0.8502 - val_loss: 2.0272 - val_accuracy: 0.5270\n",
      "Epoch 16/50\n",
      "250/250 [==============================] - 1s 6ms/step - loss: 0.3799 - accuracy: 0.8723 - val_loss: 1.8147 - val_accuracy: 0.5730\n",
      "Epoch 17/50\n",
      "250/250 [==============================] - 1s 6ms/step - loss: 0.3219 - accuracy: 0.8922 - val_loss: 1.9785 - val_accuracy: 0.5540\n",
      "Epoch 18/50\n",
      "250/250 [==============================] - 1s 6ms/step - loss: 0.3099 - accuracy: 0.8979 - val_loss: 2.0971 - val_accuracy: 0.5555\n",
      "Epoch 19/50\n",
      "250/250 [==============================] - 1s 6ms/step - loss: 0.2898 - accuracy: 0.9013 - val_loss: 1.9984 - val_accuracy: 0.5485\n",
      "Epoch 20/50\n",
      "250/250 [==============================] - 1s 6ms/step - loss: 0.2763 - accuracy: 0.9088 - val_loss: 1.9827 - val_accuracy: 0.5520\n",
      "Epoch 21/50\n",
      "250/250 [==============================] - 1s 6ms/step - loss: 0.2483 - accuracy: 0.9165 - val_loss: 2.1734 - val_accuracy: 0.5630\n",
      "Epoch 22/50\n",
      "250/250 [==============================] - 1s 6ms/step - loss: 0.2420 - accuracy: 0.9178 - val_loss: 2.0028 - val_accuracy: 0.5645\n",
      "Epoch 23/50\n",
      "250/250 [==============================] - 1s 6ms/step - loss: 0.1817 - accuracy: 0.9427 - val_loss: 2.0746 - val_accuracy: 0.5595\n",
      "Epoch 24/50\n",
      "250/250 [==============================] - 1s 6ms/step - loss: 0.2375 - accuracy: 0.9212 - val_loss: 2.1402 - val_accuracy: 0.5660\n",
      "Epoch 25/50\n",
      "250/250 [==============================] - 1s 6ms/step - loss: 0.2537 - accuracy: 0.9140 - val_loss: 2.0970 - val_accuracy: 0.5755\n",
      "Epoch 26/50\n",
      "250/250 [==============================] - 1s 6ms/step - loss: 0.2388 - accuracy: 0.9213 - val_loss: 2.1508 - val_accuracy: 0.5700\n",
      "Epoch 27/50\n",
      "250/250 [==============================] - 2s 6ms/step - loss: 0.1192 - accuracy: 0.9625 - val_loss: 1.9632 - val_accuracy: 0.5820\n",
      "Epoch 28/50\n",
      "250/250 [==============================] - 1s 5ms/step - loss: 0.1800 - accuracy: 0.9405 - val_loss: 2.4915 - val_accuracy: 0.5450\n",
      "Epoch 29/50\n",
      "250/250 [==============================] - 1s 6ms/step - loss: 0.1772 - accuracy: 0.9413 - val_loss: 2.2442 - val_accuracy: 0.5755\n",
      "Epoch 30/50\n",
      "250/250 [==============================] - 1s 5ms/step - loss: 0.2101 - accuracy: 0.9340 - val_loss: 2.2648 - val_accuracy: 0.5765\n",
      "Epoch 31/50\n",
      "250/250 [==============================] - 1s 6ms/step - loss: 0.1187 - accuracy: 0.9619 - val_loss: 2.3309 - val_accuracy: 0.5745\n",
      "Epoch 32/50\n",
      "250/250 [==============================] - 1s 6ms/step - loss: 0.0746 - accuracy: 0.9782 - val_loss: 2.1282 - val_accuracy: 0.5965\n",
      "Epoch 33/50\n",
      "250/250 [==============================] - 1s 6ms/step - loss: 0.1088 - accuracy: 0.9664 - val_loss: 2.1907 - val_accuracy: 0.6050\n",
      "Epoch 34/50\n",
      "250/250 [==============================] - 1s 6ms/step - loss: 0.1562 - accuracy: 0.9462 - val_loss: 2.4327 - val_accuracy: 0.5735\n",
      "Epoch 35/50\n",
      "250/250 [==============================] - 1s 6ms/step - loss: 0.1298 - accuracy: 0.9574 - val_loss: 2.3626 - val_accuracy: 0.5985\n",
      "Epoch 36/50\n",
      "250/250 [==============================] - 1s 6ms/step - loss: 0.1494 - accuracy: 0.9506 - val_loss: 2.2138 - val_accuracy: 0.5970\n",
      "Epoch 37/50\n",
      "250/250 [==============================] - 2s 6ms/step - loss: 0.1024 - accuracy: 0.9676 - val_loss: 2.2665 - val_accuracy: 0.6135\n",
      "Epoch 38/50\n",
      "250/250 [==============================] - 1s 6ms/step - loss: 0.1553 - accuracy: 0.9512 - val_loss: 2.3983 - val_accuracy: 0.5910\n",
      "Epoch 39/50\n",
      "250/250 [==============================] - 1s 6ms/step - loss: 0.1115 - accuracy: 0.9644 - val_loss: 2.2027 - val_accuracy: 0.6215\n",
      "Epoch 40/50\n",
      "250/250 [==============================] - 1s 6ms/step - loss: 0.0510 - accuracy: 0.9846 - val_loss: 2.4282 - val_accuracy: 0.6170\n",
      "Epoch 41/50\n",
      "250/250 [==============================] - 1s 6ms/step - loss: 0.1451 - accuracy: 0.9546 - val_loss: 2.7988 - val_accuracy: 0.5805\n",
      "Epoch 42/50\n",
      "250/250 [==============================] - 2s 6ms/step - loss: 0.1211 - accuracy: 0.9604 - val_loss: 2.4104 - val_accuracy: 0.6020\n",
      "Epoch 43/50\n",
      "250/250 [==============================] - 2s 6ms/step - loss: 0.0879 - accuracy: 0.9686 - val_loss: 2.4283 - val_accuracy: 0.6035\n",
      "Epoch 44/50\n",
      "250/250 [==============================] - 1s 6ms/step - loss: 0.1368 - accuracy: 0.9542 - val_loss: 2.3511 - val_accuracy: 0.6105\n",
      "Epoch 45/50\n",
      "250/250 [==============================] - 1s 6ms/step - loss: 0.0997 - accuracy: 0.9704 - val_loss: 2.8617 - val_accuracy: 0.5820\n",
      "Epoch 46/50\n",
      "250/250 [==============================] - 1s 6ms/step - loss: 0.1399 - accuracy: 0.9552 - val_loss: 2.5198 - val_accuracy: 0.6195\n",
      "Epoch 47/50\n",
      "250/250 [==============================] - 2s 6ms/step - loss: 0.0614 - accuracy: 0.9806 - val_loss: 2.3713 - val_accuracy: 0.6155\n",
      "Epoch 48/50\n",
      "250/250 [==============================] - 1s 6ms/step - loss: 0.0434 - accuracy: 0.9872 - val_loss: 2.6298 - val_accuracy: 0.6120\n",
      "Epoch 49/50\n",
      "250/250 [==============================] - 2s 6ms/step - loss: 0.0372 - accuracy: 0.9899 - val_loss: 2.3268 - val_accuracy: 0.6180\n",
      "Epoch 50/50\n",
      "250/250 [==============================] - 2s 6ms/step - loss: 0.0988 - accuracy: 0.9690 - val_loss: 2.5748 - val_accuracy: 0.6005\n"
     ]
    }
   ],
   "source": [
    "history = model.fit(X_train, y_train, validation_data=(X_test, y_test), batch_size=32, epochs=50)\n"
   ]
  },
  {
   "cell_type": "code",
   "execution_count": null,
   "metadata": {},
   "outputs": [],
   "source": []
  }
 ],
 "metadata": {
  "kernelspec": {
   "display_name": "Python 3",
   "language": "python",
   "name": "python3"
  },
  "language_info": {
   "codemirror_mode": {
    "name": "ipython",
    "version": 3
   },
   "file_extension": ".py",
   "mimetype": "text/x-python",
   "name": "python",
   "nbconvert_exporter": "python",
   "pygments_lexer": "ipython3",
   "version": "3.7.6"
  }
 },
 "nbformat": 4,
 "nbformat_minor": 4
}
