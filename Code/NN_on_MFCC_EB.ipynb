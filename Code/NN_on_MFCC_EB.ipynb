{
 "cells": [
  {
   "cell_type": "code",
   "execution_count": 16,
   "metadata": {},
   "outputs": [],
   "source": [
    "import json\n",
    "import numpy as np\n",
    "from sklearn.model_selection import train_test_split\n",
    "import tensorflow.keras as keras"
   ]
  },
  {
   "cell_type": "code",
   "execution_count": 17,
   "metadata": {},
   "outputs": [],
   "source": [
    "DATA_PATH = r\"C:\\Users\\eatb6\\Documents\\ML\\Final Project\\ML2021BigProject-main\\ML2021BigProject-main\\Code\\data_10.json\"\n"
   ]
  },
  {
   "cell_type": "code",
   "execution_count": 18,
   "metadata": {},
   "outputs": [],
   "source": [
    "def load_data(data_path):\n",
    "    \"\"\"Loads training dataset from json file.\n",
    "        :param data_path (str): Path to json file containing data\n",
    "        :return X (ndarray): Inputs\n",
    "        :return y (ndarray): Targets\n",
    "    \"\"\"\n",
    "\n",
    "    with open(data_path, \"r\") as fp:\n",
    "        data = json.load(fp)\n",
    "\n",
    "    # convert lists to numpy arrays\n",
    "    X = np.array(data[\"mfcc\"])\n",
    "    y = np.array(data[\"labels\"])\n",
    "\n",
    "    print(\"Data succesfully loaded!\")\n",
    "\n",
    "    return  X, y"
   ]
  },
  {
   "cell_type": "code",
   "execution_count": null,
   "metadata": {},
   "outputs": [],
   "source": []
  },
  {
   "cell_type": "code",
   "execution_count": 21,
   "metadata": {},
   "outputs": [
    {
     "name": "stdout",
     "output_type": "stream",
     "text": [
      "Data succesfully loaded!\n"
     ]
    }
   ],
   "source": [
    "if __name__ == \"__main__\":\n",
    "\n",
    "    # load data\n",
    "    X, y = load_data(DATA_PATH)"
   ]
  },
  {
   "cell_type": "code",
   "execution_count": 23,
   "metadata": {},
   "outputs": [],
   "source": [
    "X_train, X_test, y_train, y_test = train_test_split(X, y, test_size=0.2)"
   ]
  },
  {
   "cell_type": "code",
   "execution_count": 24,
   "metadata": {},
   "outputs": [],
   "source": [
    "    model = keras.Sequential([\n",
    "\n",
    "        # input layer\n",
    "        keras.layers.Flatten(input_shape=(X.shape[1], X.shape[2])),\n",
    "\n",
    "        # 1st dense layer\n",
    "        keras.layers.Dense(512, activation='relu'),\n",
    "\n",
    "        # 2nd dense layer\n",
    "        keras.layers.Dense(256, activation='relu'),\n",
    "\n",
    "        # 3rd dense layer\n",
    "        keras.layers.Dense(64, activation='relu'),\n",
    "\n",
    "        # output layer\n",
    "        keras.layers.Dense(10, activation='softmax')\n",
    "    ])"
   ]
  },
  {
   "cell_type": "code",
   "execution_count": 25,
   "metadata": {},
   "outputs": [
    {
     "name": "stdout",
     "output_type": "stream",
     "text": [
      "Model: \"sequential_1\"\n",
      "_________________________________________________________________\n",
      "Layer (type)                 Output Shape              Param #   \n",
      "=================================================================\n",
      "flatten_1 (Flatten)          (None, 1690)              0         \n",
      "_________________________________________________________________\n",
      "dense_4 (Dense)              (None, 512)               865792    \n",
      "_________________________________________________________________\n",
      "dense_5 (Dense)              (None, 256)               131328    \n",
      "_________________________________________________________________\n",
      "dense_6 (Dense)              (None, 64)                16448     \n",
      "_________________________________________________________________\n",
      "dense_7 (Dense)              (None, 10)                650       \n",
      "=================================================================\n",
      "Total params: 1,014,218\n",
      "Trainable params: 1,014,218\n",
      "Non-trainable params: 0\n",
      "_________________________________________________________________\n"
     ]
    }
   ],
   "source": [
    "optimiser = keras.optimizers.Adam(learning_rate=0.0001)\n",
    "model.compile(optimizer=optimiser,\n",
    "                  loss='sparse_categorical_crossentropy',\n",
    "                  metrics=['accuracy'])\n",
    "\n",
    "model.summary()"
   ]
  },
  {
   "cell_type": "code",
   "execution_count": 26,
   "metadata": {},
   "outputs": [
    {
     "name": "stdout",
     "output_type": "stream",
     "text": [
      "Epoch 1/50\n",
      "250/250 [==============================] - 1s 5ms/step - loss: 6.1460 - accuracy: 0.2705 - val_loss: 2.2278 - val_accuracy: 0.2265\n",
      "Epoch 2/50\n",
      "250/250 [==============================] - 1s 4ms/step - loss: 2.0120 - accuracy: 0.3168 - val_loss: 2.0520 - val_accuracy: 0.2975\n",
      "Epoch 3/50\n",
      "250/250 [==============================] - 1s 4ms/step - loss: 1.8587 - accuracy: 0.3588 - val_loss: 2.1572 - val_accuracy: 0.3095\n",
      "Epoch 4/50\n",
      "250/250 [==============================] - 1s 4ms/step - loss: 1.7705 - accuracy: 0.3797 - val_loss: 1.9833 - val_accuracy: 0.3380\n",
      "Epoch 5/50\n",
      "250/250 [==============================] - 1s 4ms/step - loss: 1.7139 - accuracy: 0.4021 - val_loss: 1.9562 - val_accuracy: 0.3660\n",
      "Epoch 6/50\n",
      "250/250 [==============================] - 1s 4ms/step - loss: 1.6523 - accuracy: 0.4190 - val_loss: 1.9785 - val_accuracy: 0.3470\n",
      "Epoch 7/50\n",
      "250/250 [==============================] - 1s 5ms/step - loss: 1.6123 - accuracy: 0.4355 - val_loss: 1.9239 - val_accuracy: 0.3750\n",
      "Epoch 8/50\n",
      "250/250 [==============================] - 1s 5ms/step - loss: 1.5624 - accuracy: 0.4534 - val_loss: 1.9034 - val_accuracy: 0.3580\n",
      "Epoch 9/50\n",
      "250/250 [==============================] - 1s 6ms/step - loss: 1.5125 - accuracy: 0.4669 - val_loss: 1.9396 - val_accuracy: 0.3690\n",
      "Epoch 10/50\n",
      "250/250 [==============================] - 1s 6ms/step - loss: 1.4967 - accuracy: 0.4625 - val_loss: 1.8651 - val_accuracy: 0.3850\n",
      "Epoch 11/50\n",
      "250/250 [==============================] - 1s 6ms/step - loss: 1.4128 - accuracy: 0.4990 - val_loss: 1.8709 - val_accuracy: 0.4055\n",
      "Epoch 12/50\n",
      "250/250 [==============================] - 1s 5ms/step - loss: 1.3532 - accuracy: 0.5210 - val_loss: 2.1545 - val_accuracy: 0.4495\n",
      "Epoch 13/50\n",
      "250/250 [==============================] - 1s 5ms/step - loss: 1.3528 - accuracy: 0.5260 - val_loss: 1.8508 - val_accuracy: 0.4375\n",
      "Epoch 14/50\n",
      "250/250 [==============================] - 1s 6ms/step - loss: 1.2997 - accuracy: 0.5523 - val_loss: 1.8360 - val_accuracy: 0.4115\n",
      "Epoch 15/50\n",
      "250/250 [==============================] - 1s 5ms/step - loss: 1.2480 - accuracy: 0.5705 - val_loss: 1.7937 - val_accuracy: 0.4690\n",
      "Epoch 16/50\n",
      "250/250 [==============================] - 1s 6ms/step - loss: 1.1824 - accuracy: 0.5845 - val_loss: 1.9207 - val_accuracy: 0.4480\n",
      "Epoch 17/50\n",
      "250/250 [==============================] - 1s 6ms/step - loss: 1.1883 - accuracy: 0.5863 - val_loss: 1.9627 - val_accuracy: 0.4560\n",
      "Epoch 18/50\n",
      "250/250 [==============================] - 1s 5ms/step - loss: 1.1133 - accuracy: 0.6091 - val_loss: 1.8852 - val_accuracy: 0.4835\n",
      "Epoch 19/50\n",
      "250/250 [==============================] - 1s 6ms/step - loss: 1.0822 - accuracy: 0.6236 - val_loss: 1.8864 - val_accuracy: 0.4920\n",
      "Epoch 20/50\n",
      "250/250 [==============================] - 1s 6ms/step - loss: 1.0313 - accuracy: 0.6407 - val_loss: 1.8597 - val_accuracy: 0.4920\n",
      "Epoch 21/50\n",
      "250/250 [==============================] - 1s 5ms/step - loss: 0.9976 - accuracy: 0.6466 - val_loss: 1.8823 - val_accuracy: 0.4890\n",
      "Epoch 22/50\n",
      "250/250 [==============================] - 1s 6ms/step - loss: 0.9465 - accuracy: 0.6605 - val_loss: 1.8543 - val_accuracy: 0.4840\n",
      "Epoch 23/50\n",
      "250/250 [==============================] - 1s 6ms/step - loss: 0.9258 - accuracy: 0.6687 - val_loss: 1.8682 - val_accuracy: 0.5225\n",
      "Epoch 24/50\n",
      "250/250 [==============================] - 1s 6ms/step - loss: 0.8809 - accuracy: 0.6827 - val_loss: 1.8258 - val_accuracy: 0.5105\n",
      "Epoch 25/50\n",
      "250/250 [==============================] - 1s 6ms/step - loss: 0.8484 - accuracy: 0.6950 - val_loss: 2.0160 - val_accuracy: 0.5250\n",
      "Epoch 26/50\n",
      "250/250 [==============================] - 2s 7ms/step - loss: 0.8351 - accuracy: 0.7041 - val_loss: 1.9861 - val_accuracy: 0.4890\n",
      "Epoch 27/50\n",
      "250/250 [==============================] - 2s 6ms/step - loss: 0.7686 - accuracy: 0.7225 - val_loss: 1.8963 - val_accuracy: 0.5065\n",
      "Epoch 28/50\n",
      "250/250 [==============================] - 1s 6ms/step - loss: 0.7195 - accuracy: 0.7365 - val_loss: 1.9336 - val_accuracy: 0.5235\n",
      "Epoch 29/50\n",
      "250/250 [==============================] - 1s 6ms/step - loss: 0.6989 - accuracy: 0.7472 - val_loss: 2.0426 - val_accuracy: 0.5265\n",
      "Epoch 30/50\n",
      "250/250 [==============================] - 1s 6ms/step - loss: 0.6618 - accuracy: 0.7610 - val_loss: 1.9905 - val_accuracy: 0.5380\n",
      "Epoch 31/50\n",
      "250/250 [==============================] - 1s 6ms/step - loss: 0.6228 - accuracy: 0.7783 - val_loss: 2.0168 - val_accuracy: 0.5440\n",
      "Epoch 32/50\n",
      "250/250 [==============================] - 1s 6ms/step - loss: 0.5824 - accuracy: 0.7908 - val_loss: 2.1024 - val_accuracy: 0.5355\n",
      "Epoch 33/50\n",
      "250/250 [==============================] - 1s 6ms/step - loss: 0.5646 - accuracy: 0.7990 - val_loss: 2.0668 - val_accuracy: 0.5525\n",
      "Epoch 34/50\n",
      "250/250 [==============================] - 1s 6ms/step - loss: 0.5559 - accuracy: 0.8015 - val_loss: 2.0542 - val_accuracy: 0.5385\n",
      "Epoch 35/50\n",
      "250/250 [==============================] - 1s 6ms/step - loss: 0.5118 - accuracy: 0.8182 - val_loss: 2.0628 - val_accuracy: 0.5400\n",
      "Epoch 36/50\n",
      "250/250 [==============================] - 1s 6ms/step - loss: 0.4838 - accuracy: 0.8263 - val_loss: 2.1378 - val_accuracy: 0.5595\n",
      "Epoch 37/50\n",
      "250/250 [==============================] - 1s 6ms/step - loss: 0.4520 - accuracy: 0.8372 - val_loss: 2.0040 - val_accuracy: 0.5605\n",
      "Epoch 38/50\n",
      "250/250 [==============================] - 1s 6ms/step - loss: 0.4173 - accuracy: 0.8533 - val_loss: 2.1380 - val_accuracy: 0.5760\n",
      "Epoch 39/50\n",
      "250/250 [==============================] - 1s 6ms/step - loss: 0.3912 - accuracy: 0.8607 - val_loss: 2.2591 - val_accuracy: 0.5655\n",
      "Epoch 40/50\n",
      "250/250 [==============================] - 1s 6ms/step - loss: 0.3973 - accuracy: 0.8576 - val_loss: 2.1420 - val_accuracy: 0.5600\n",
      "Epoch 41/50\n",
      "250/250 [==============================] - 1s 6ms/step - loss: 0.3599 - accuracy: 0.8712 - val_loss: 2.1822 - val_accuracy: 0.5870\n",
      "Epoch 42/50\n",
      "250/250 [==============================] - 1s 6ms/step - loss: 0.3298 - accuracy: 0.8782 - val_loss: 2.1125 - val_accuracy: 0.5660\n",
      "Epoch 43/50\n",
      "250/250 [==============================] - 1s 6ms/step - loss: 0.3408 - accuracy: 0.8762 - val_loss: 2.3146 - val_accuracy: 0.5785\n",
      "Epoch 44/50\n",
      "250/250 [==============================] - 1s 6ms/step - loss: 0.3085 - accuracy: 0.8911 - val_loss: 2.2041 - val_accuracy: 0.5865\n",
      "Epoch 45/50\n",
      "250/250 [==============================] - 1s 5ms/step - loss: 0.2977 - accuracy: 0.8923 - val_loss: 2.2945 - val_accuracy: 0.5715\n",
      "Epoch 46/50\n",
      "250/250 [==============================] - 1s 5ms/step - loss: 0.3098 - accuracy: 0.8913 - val_loss: 2.2451 - val_accuracy: 0.5705\n",
      "Epoch 47/50\n",
      "250/250 [==============================] - 1s 6ms/step - loss: 0.2725 - accuracy: 0.9007 - val_loss: 2.2873 - val_accuracy: 0.5920\n",
      "Epoch 48/50\n",
      "250/250 [==============================] - 1s 5ms/step - loss: 0.2451 - accuracy: 0.9128 - val_loss: 2.4126 - val_accuracy: 0.5825\n",
      "Epoch 49/50\n",
      "250/250 [==============================] - 1s 6ms/step - loss: 0.2654 - accuracy: 0.9073 - val_loss: 2.4676 - val_accuracy: 0.5790\n",
      "Epoch 50/50\n",
      "250/250 [==============================] - 2s 6ms/step - loss: 0.2245 - accuracy: 0.9172 - val_loss: 2.3190 - val_accuracy: 0.5920\n"
     ]
    }
   ],
   "source": [
    "history = model.fit(X_train, y_train, validation_data=(X_test, y_test), batch_size=32, epochs=50)\n"
   ]
  },
  {
   "cell_type": "code",
   "execution_count": null,
   "metadata": {},
   "outputs": [],
   "source": []
  }
 ],
 "metadata": {
  "kernelspec": {
   "display_name": "Python 3",
   "language": "python",
   "name": "python3"
  },
  "language_info": {
   "codemirror_mode": {
    "name": "ipython",
    "version": 3
   },
   "file_extension": ".py",
   "mimetype": "text/x-python",
   "name": "python",
   "nbconvert_exporter": "python",
   "pygments_lexer": "ipython3",
   "version": "3.7.6"
  }
 },
 "nbformat": 4,
 "nbformat_minor": 4
}
